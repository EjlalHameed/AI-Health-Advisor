{
 "cells": [
  {
   "cell_type": "code",
   "execution_count": 1,
   "id": "47e6bb95-7a0a-48f1-abda-9dccab8c7e6c",
   "metadata": {},
   "outputs": [
    {
     "name": "stdout",
     "output_type": "stream",
     "text": [
      "Requirement already satisfied: minisom in c:\\users\\ejlal\\anaconda3\\lib\\site-packages (2.3.5)\n",
      "Note: you may need to restart the kernel to use updated packages.\n"
     ]
    }
   ],
   "source": [
    "pip install minisom"
   ]
  },
  {
   "cell_type": "code",
   "execution_count": 2,
   "id": "cf88f0fd-d173-42ce-a151-69dc5884ea00",
   "metadata": {},
   "outputs": [],
   "source": [
    "# Import necessary libraries\n",
    "import numpy as np\n",
    "import pandas as pd\n",
    "import matplotlib.pyplot as plt\n",
    "import seaborn as sns\n",
    "from sklearn.model_selection import train_test_split\n",
    "from sklearn.preprocessing import StandardScaler, MinMaxScaler\n",
    "from sklearn.metrics import accuracy_score, confusion_matrix, classification_report\n",
    "\n",
    "# Neural Network related imports\n",
    "from keras.models import Sequential\n",
    "from keras.layers import Dense, Dropout, BatchNormalization\n",
    "from keras.optimizers import SGD, Adam\n",
    "from keras.regularizers import l1, l2\n",
    "from keras.utils import to_categorical\n",
    "\n",
    "# Advanced models\n",
    "from minisom import MiniSom  # For SOM\n",
    "from sklearn.cluster import KMeans  # For RBFN\n",
    "from sklearn.metrics.pairwise import rbf_kernel  # For RBFN\n",
    "\n",
    "# Set random seed for reproducibility\n",
    "np.random.seed(42)"
   ]
  },
  {
   "cell_type": "code",
   "execution_count": 3,
   "id": "003ec82c-c278-439d-8863-8c038ad08f16",
   "metadata": {},
   "outputs": [],
   "source": [
    "# Load the dataset\n",
    "file_path = \"C:/Users/ejlal/OneDrive/Desktop/diabetes_prediction_dataset.csv\"\n",
    "diabetes_data = pd.read_csv(file_path)"
   ]
  },
  {
   "cell_type": "code",
   "execution_count": 4,
   "id": "05a1763c-04f5-4da7-86ee-1c0b21699fa3",
   "metadata": {},
   "outputs": [
    {
     "name": "stdout",
     "output_type": "stream",
     "text": [
      "Dataset Info:\n",
      "<class 'pandas.core.frame.DataFrame'>\n",
      "RangeIndex: 100000 entries, 0 to 99999\n",
      "Data columns (total 9 columns):\n",
      " #   Column               Non-Null Count   Dtype  \n",
      "---  ------               --------------   -----  \n",
      " 0   gender               100000 non-null  object \n",
      " 1   age                  100000 non-null  float64\n",
      " 2   hypertension         100000 non-null  int64  \n",
      " 3   heart_disease        100000 non-null  int64  \n",
      " 4   smoking_history      100000 non-null  object \n",
      " 5   bmi                  100000 non-null  float64\n",
      " 6   HbA1c_level          100000 non-null  float64\n",
      " 7   blood_glucose_level  100000 non-null  int64  \n",
      " 8   diabetes             100000 non-null  int64  \n",
      "dtypes: float64(3), int64(4), object(2)\n",
      "memory usage: 6.9+ MB\n",
      "None\n"
     ]
    }
   ],
   "source": [
    "# Display basic info\n",
    "print(\"Dataset Info:\")\n",
    "print(diabetes_data.info())"
   ]
  },
  {
   "cell_type": "code",
   "execution_count": 5,
   "id": "a2fa0fad-3ddb-474b-b609-32cbcd47858d",
   "metadata": {},
   "outputs": [
    {
     "name": "stdout",
     "output_type": "stream",
     "text": [
      "\n",
      "First 5 rows:\n",
      "   gender   age  hypertension  heart_disease smoking_history    bmi  \\\n",
      "0  Female  80.0             0              1           never  25.19   \n",
      "1  Female  54.0             0              0         No Info  27.32   \n",
      "2    Male  28.0             0              0           never  27.32   \n",
      "3  Female  36.0             0              0         current  23.45   \n",
      "4    Male  76.0             1              1         current  20.14   \n",
      "\n",
      "   HbA1c_level  blood_glucose_level  diabetes  \n",
      "0          6.6                  140         0  \n",
      "1          6.6                   80         0  \n",
      "2          5.7                  158         0  \n",
      "3          5.0                  155         0  \n",
      "4          4.8                  155         0  \n"
     ]
    }
   ],
   "source": [
    "print(\"\\nFirst 5 rows:\")\n",
    "print(diabetes_data.head())"
   ]
  },
  {
   "cell_type": "code",
   "execution_count": 6,
   "id": "62b20a1a-d279-4620-8d13-cb27203975fd",
   "metadata": {},
   "outputs": [
    {
     "name": "stdout",
     "output_type": "stream",
     "text": [
      "\n",
      "Checking for missing values:\n",
      "gender                 0\n",
      "age                    0\n",
      "hypertension           0\n",
      "heart_disease          0\n",
      "smoking_history        0\n",
      "bmi                    0\n",
      "HbA1c_level            0\n",
      "blood_glucose_level    0\n",
      "diabetes               0\n",
      "dtype: int64\n"
     ]
    }
   ],
   "source": [
    "# Data Cleaning and Preprocessing\n",
    "print(\"\\nChecking for missing values:\")\n",
    "print(diabetes_data.isnull().sum())"
   ]
  },
  {
   "cell_type": "code",
   "execution_count": 7,
   "id": "feff3501-2e8b-4203-bfdd-9f7e97471ea1",
   "metadata": {},
   "outputs": [],
   "source": [
    "# Convert categorical variables to numerical\n",
    "diabetes_data['gender'] = diabetes_data['gender'].map({'Female': 0, 'Male': 1, 'Other': 2})\n",
    "diabetes_data['smoking_history'] = diabetes_data['smoking_history'].map({\n",
    "    'never': 0,\n",
    "    'No Info': 1,\n",
    "    'current': 2,\n",
    "    'former': 3,\n",
    "    'ever': 4,\n",
    "    'not current': 5\n",
    "})"
   ]
  },
  {
   "cell_type": "code",
   "execution_count": 8,
   "id": "a374a409-00c7-4d69-a751-f7a41e6d4dcc",
   "metadata": {},
   "outputs": [],
   "source": [
    "# Feature Engineering\n",
    "# Let's create some interaction terms that might be relevant\n",
    "diabetes_data['bmi_age_interaction'] = diabetes_data['bmi'] * diabetes_data['age']\n",
    "diabetes_data['glucose_bp_interaction'] = diabetes_data['blood_glucose_level'] * diabetes_data['hypertension']"
   ]
  },
  {
   "cell_type": "code",
   "execution_count": 9,
   "id": "546acdf1-0ec5-4f5e-a9d8-ee106627bf7b",
   "metadata": {},
   "outputs": [],
   "source": [
    "# Split into features and target\n",
    "X = diabetes_data.drop('diabetes', axis=1)\n",
    "y = diabetes_data['diabetes']\n"
   ]
  },
  {
   "cell_type": "code",
   "execution_count": 10,
   "id": "8b29cffd-1da7-4482-a075-9f7dcda8c92d",
   "metadata": {},
   "outputs": [],
   "source": [
    "# Split into train and test sets\n",
    "X_train, X_test, y_train, y_test = train_test_split(X, y, test_size=0.2, random_state=42, stratify=y)"
   ]
  },
  {
   "cell_type": "code",
   "execution_count": 11,
   "id": "74db74e3-726e-4612-a860-daa2d62ba753",
   "metadata": {},
   "outputs": [],
   "source": [
    "# Scale the features\n",
    "scaler = StandardScaler()\n",
    "X_train_scaled = scaler.fit_transform(X_train)\n",
    "X_test_scaled = scaler.transform(X_test)"
   ]
  },
  {
   "cell_type": "code",
   "execution_count": 12,
   "id": "a1d36756-0efa-46be-a5ef-1a3672b8aa1a",
   "metadata": {},
   "outputs": [
    {
     "name": "stdout",
     "output_type": "stream",
     "text": [
      "\n",
      "Class distribution in training set: diabetes\n",
      "0    0.915\n",
      "1    0.085\n",
      "Name: proportion, dtype: float64\n",
      "Class distribution in test set: diabetes\n",
      "0    0.915\n",
      "1    0.085\n",
      "Name: proportion, dtype: float64\n"
     ]
    }
   ],
   "source": [
    "print(\"\\nClass distribution in training set:\", y_train.value_counts(normalize=True))\n",
    "print(\"Class distribution in test set:\", y_test.value_counts(normalize=True))"
   ]
  },
  {
   "cell_type": "code",
   "execution_count": 13,
   "id": "b29873d3-e256-48a5-839d-f04f42910273",
   "metadata": {},
   "outputs": [],
   "source": [
    "class Perceptron:\n",
    "    def __init__(self, learning_rate=0.01, n_iterations=1000):\n",
    "        self.learning_rate = learning_rate\n",
    "        self.n_iterations = n_iterations\n",
    "        self.weights = None\n",
    "        self.bias = None\n",
    "    \n",
    "    def fit(self, X, y):\n",
    "        n_samples, n_features = X.shape  # This line defines n_features\n",
    "        \n",
    "        # Initialize weights and bias\n",
    "        self.weights = np.zeros(n_features)\n",
    "        self.bias = 0\n",
    "        \n",
    "        # Convert y to -1 or 1\n",
    "        y_ = np.where(y <= 0, -1, 1)\n",
    "        \n",
    "        for _ in range(self.n_iterations):\n",
    "            for idx, x_i in enumerate(X):\n",
    "                condition = y_[idx] * (np.dot(x_i, self.weights) + self.bias) >= 0\n",
    "                if not condition:\n",
    "                    update = self.learning_rate * y_[idx]\n",
    "                    self.weights += update * x_i\n",
    "                    self.bias += update\n",
    "    \n",
    "    def predict(self, X):\n",
    "        linear_output = np.dot(X, self.weights) + self.bias\n",
    "        return np.where(linear_output >= 0, 1, 0)"
   ]
  },
  {
   "cell_type": "code",
   "execution_count": 14,
   "id": "71a8e50b-6b52-45e4-8a37-2c353464752f",
   "metadata": {},
   "outputs": [],
   "source": [
    "# Train and evaluate perceptron\n",
    "perceptron = Perceptron(learning_rate=0.01, n_iterations=10)\n",
    "perceptron.fit(X_train_scaled, y_train)\n",
    "y_pred_perceptron = perceptron.predict(X_test_scaled)"
   ]
  },
  {
   "cell_type": "code",
   "execution_count": 15,
   "id": "cc1dacb7-9562-4f75-b904-d9adaadb99bb",
   "metadata": {},
   "outputs": [
    {
     "name": "stdout",
     "output_type": "stream",
     "text": [
      "\n",
      "Perceptron Results:\n",
      "Accuracy: 0.085\n",
      "Confusion Matrix:\n",
      " [[    0 18300]\n",
      " [    0  1700]]\n",
      "Classification Report:\n",
      "               precision    recall  f1-score   support\n",
      "\n",
      "           0       0.00      0.00      0.00     18300\n",
      "           1       0.09      1.00      0.16      1700\n",
      "\n",
      "    accuracy                           0.09     20000\n",
      "   macro avg       0.04      0.50      0.08     20000\n",
      "weighted avg       0.01      0.09      0.01     20000\n",
      "\n"
     ]
    },
    {
     "name": "stderr",
     "output_type": "stream",
     "text": [
      "C:\\Users\\ejlal\\anaconda3\\Lib\\site-packages\\sklearn\\metrics\\_classification.py:1531: UndefinedMetricWarning: Precision is ill-defined and being set to 0.0 in labels with no predicted samples. Use `zero_division` parameter to control this behavior.\n",
      "  _warn_prf(average, modifier, f\"{metric.capitalize()} is\", len(result))\n",
      "C:\\Users\\ejlal\\anaconda3\\Lib\\site-packages\\sklearn\\metrics\\_classification.py:1531: UndefinedMetricWarning: Precision is ill-defined and being set to 0.0 in labels with no predicted samples. Use `zero_division` parameter to control this behavior.\n",
      "  _warn_prf(average, modifier, f\"{metric.capitalize()} is\", len(result))\n",
      "C:\\Users\\ejlal\\anaconda3\\Lib\\site-packages\\sklearn\\metrics\\_classification.py:1531: UndefinedMetricWarning: Precision is ill-defined and being set to 0.0 in labels with no predicted samples. Use `zero_division` parameter to control this behavior.\n",
      "  _warn_prf(average, modifier, f\"{metric.capitalize()} is\", len(result))\n"
     ]
    }
   ],
   "source": [
    "print(\"\\nPerceptron Results:\")\n",
    "print(\"Accuracy:\", accuracy_score(y_test, y_pred_perceptron))\n",
    "print(\"Confusion Matrix:\\n\", confusion_matrix(y_test, y_pred_perceptron))\n",
    "print(\"Classification Report:\\n\", classification_report(y_test, y_pred_perceptron))"
   ]
  },
  {
   "cell_type": "code",
   "execution_count": 16,
   "id": "a569368e-7d31-4aaf-ad1f-1024152f1f75",
   "metadata": {},
   "outputs": [],
   "source": [
    "def build_mlp_model(input_dim, activation='relu', optimizer='adam', regularizer=None, dropout_rate=0.0):\n",
    "    model = Sequential()\n",
    "    "
   ]
  },
  {
   "cell_type": "code",
   "execution_count": 17,
   "id": "583a53d2-5bf8-4871-8570-19dc887f18e4",
   "metadata": {},
   "outputs": [],
   "source": [
    "def build_layer(input_dim=None, activation='relu', regularizer=None, dropout_rate=0.0):\n",
    "    \"\"\"Builds a complete layer with all specified components\"\"\"\n",
    "    # First create the model\n",
    "    model = Sequential()\n",
    "    \n",
    "    # Validate input_dim is provided\n",
    "    if input_dim is None:\n",
    "        raise ValueError(\"input_dim must be specified\")\n",
    "    \n",
    "    # Input layer with optional regularization\n",
    "    if regularizer == 'l1':\n",
    "        model.add(Dense(64, input_dim=input_dim, activation=activation, \n",
    "                     kernel_regularizer=l1(0.01)))\n",
    "    elif regularizer == 'l2':\n",
    "        model.add(Dense(64, input_dim=input_dim, activation=activation, \n",
    "                     kernel_regularizer=l2(0.01)))\n",
    "    else:\n",
    "        model.add(Dense(64, input_dim=input_dim, activation=activation))\n",
    "    \n",
    "    # Optional dropout\n",
    "    if dropout_rate > 0:\n",
    "        model.add(Dropout(dropout_rate))\n",
    "    \n",
    "    # Batch normalization\n",
    "    model.add(BatchNormalization())\n",
    "    \n",
    "    return model\n",
    "\n",
    "# Example usage:\n",
    "# input_dim = X_train.shape[1]  # You need to define this from your data\n",
    "# model = build_layer(input_dim=input_dim, activation='relu', regularizer='l2', dropout_rate=0.3)"
   ]
  },
  {
   "cell_type": "code",
   "execution_count": 18,
   "id": "94fb16f2-cacd-4ae3-8775-779f066accaa",
   "metadata": {},
   "outputs": [],
   "source": [
    "# Hidden layers - fixed version\n",
    "def add_hidden_layers(model, activation='relu', dropout_rate=0.0):\n",
    "    \"\"\"Adds hidden layers to the model with specified activation and dropout\"\"\"\n",
    "    model.add(Dense(32, activation=activation))\n",
    "    if dropout_rate > 0:\n",
    "        model.add(Dropout(dropout_rate))\n",
    "    model.add(BatchNormalization())\n",
    "    return model\n",
    "\n",
    "# Example usage:\n",
    "# model = add_hidden_layers(model, activation='relu', dropout_rate=0.2)"
   ]
  },
  {
   "cell_type": "code",
   "execution_count": 19,
   "id": "fcd304db-6caa-4c98-bf31-edaf68e475f4",
   "metadata": {},
   "outputs": [],
   "source": [
    "from keras.models import Sequential\n",
    "from keras.layers import Dense, Dropout, BatchNormalization\n",
    "\n",
    "# First initialize the Sequential model\n",
    "model = Sequential()\n",
    "\n",
    "# Then add the output layer\n",
    "model.add(Dense(1, activation='sigmoid'))  # Binary classification output\n",
    "\n",
    "# Example complete model building would look like:\n",
    "def build_model(input_dim):\n",
    "    model = Sequential()\n",
    "    # Add your layers here\n",
    "    model.add(Dense(64, input_dim=input_dim, activation='relu'))\n",
    "    model.add(Dense(32, activation='relu'))\n",
    "    model.add(Dense(1, activation='sigmoid'))\n",
    "    return model"
   ]
  },
  {
   "cell_type": "code",
   "execution_count": 20,
   "id": "f8e4d628-b930-40f9-8c54-876bf6e81132",
   "metadata": {},
   "outputs": [],
   "source": [
    "from keras.optimizers import SGD, Adam\n",
    "\n",
    "def build_mlp_model(input_dim, activation='relu', optimizer='adam', regularizer=None, dropout_rate=0.0):\n",
    "    \"\"\"Builds a complete MLP model with specified parameters\"\"\"\n",
    "    model = Sequential()\n",
    "    \n",
    "    # Input layer\n",
    "    if regularizer == 'l1':\n",
    "        model.add(Dense(64, input_dim=input_dim, activation=activation, \n",
    "                     kernel_regularizer=l1(0.01)))\n",
    "    elif regularizer == 'l2':\n",
    "        model.add(Dense(64, input_dim=input_dim, activation=activation, \n",
    "                     kernel_regularizer=l2(0.01)))\n",
    "    else:\n",
    "        model.add(Dense(64, input_dim=input_dim, activation=activation))\n",
    "    \n",
    "    if dropout_rate > 0:\n",
    "        model.add(Dropout(dropout_rate))\n",
    "    \n",
    "    model.add(BatchNormalization())\n",
    "    \n",
    "    # Hidden layer\n",
    "    model.add(Dense(32, activation=activation))\n",
    "    if dropout_rate > 0:\n",
    "        model.add(Dropout(dropout_rate))\n",
    "    model.add(BatchNormalization())\n",
    "    \n",
    "    # Output layer\n",
    "    model.add(Dense(1, activation='sigmoid'))\n",
    "    \n",
    "    # Compile model\n",
    "    if optimizer == 'sgd':\n",
    "        opt = SGD(learning_rate=0.01)\n",
    "    else:  # Default to Adam\n",
    "        opt = Adam(learning_rate=0.001)\n",
    "    \n",
    "    model.compile(loss='binary_crossentropy', optimizer=opt, metrics=['accuracy'])\n",
    "    \n",
    "    return model"
   ]
  },
  {
   "cell_type": "code",
   "execution_count": 21,
   "id": "7360c9cc-2227-4543-9331-d014ffd8a2b3",
   "metadata": {},
   "outputs": [],
   "source": [
    "# Train MLP with different configurations\n",
    "input_dim = X_train_scaled.shape[1]\n",
    "mlp_models = {}"
   ]
  },
  {
   "cell_type": "code",
   "execution_count": 22,
   "id": "f67f4cad-7053-40e5-93f4-e95c4e077103",
   "metadata": {},
   "outputs": [
    {
     "name": "stderr",
     "output_type": "stream",
     "text": [
      "C:\\Users\\ejlal\\anaconda3\\Lib\\site-packages\\keras\\src\\layers\\core\\dense.py:87: UserWarning: Do not pass an `input_shape`/`input_dim` argument to a layer. When using Sequential models, prefer using an `Input(shape)` object as the first layer in the model instead.\n",
      "  super().__init__(activity_regularizer=activity_regularizer, **kwargs)\n"
     ]
    }
   ],
   "source": [
    "# MLP with ReLU and Adam\n",
    "mlp_relu_adam = build_mlp_model(input_dim, activation='relu', optimizer='adam')\n",
    "history_relu_adam = mlp_relu_adam.fit(X_train_scaled, y_train, epochs=10, batch_size=32, validation_split=0.2, verbose=0)\n",
    "mlp_models['relu_adam'] = mlp_relu_adam"
   ]
  },
  {
   "cell_type": "code",
   "execution_count": 46,
   "id": "109158bd-1b48-4aba-9386-941f8f1e0eaf",
   "metadata": {},
   "outputs": [
    {
     "name": "stderr",
     "output_type": "stream",
     "text": [
      "C:\\Users\\ejlal\\anaconda3\\Lib\\site-packages\\keras\\src\\layers\\core\\dense.py:87: UserWarning: Do not pass an `input_shape`/`input_dim` argument to a layer. When using Sequential models, prefer using an `Input(shape)` object as the first layer in the model instead.\n",
      "  super().__init__(activity_regularizer=activity_regularizer, **kwargs)\n"
     ]
    }
   ],
   "source": [
    "# MLP with Sigmoid and SGD\n",
    "mlp_sigmoid_sgd = build_mlp_model(input_dim, activation='sigmoid', optimizer='sgd')\n",
    "history_sigmoid_sgd = mlp_sigmoid_sgd.fit(X_train_scaled, y_train, epochs=10, batch_size=32, \n",
    "                                          validation_split=0.2, verbose=0)\n",
    "mlp_models['sigmoid_sgd'] = mlp_sigmoid_sgd"
   ]
  },
  {
   "cell_type": "code",
   "execution_count": 48,
   "id": "3f94ec3e-b310-4ed6-8063-b396fa62bb62",
   "metadata": {},
   "outputs": [
    {
     "name": "stderr",
     "output_type": "stream",
     "text": [
      "C:\\Users\\ejlal\\anaconda3\\Lib\\site-packages\\keras\\src\\layers\\core\\dense.py:87: UserWarning: Do not pass an `input_shape`/`input_dim` argument to a layer. When using Sequential models, prefer using an `Input(shape)` object as the first layer in the model instead.\n",
      "  super().__init__(activity_regularizer=activity_regularizer, **kwargs)\n"
     ]
    }
   ],
   "source": [
    "# MLP with Tanh and Adam with L2 regularization\n",
    "mlp_tanh_adam_l2 = build_mlp_model(input_dim, activation='tanh', optimizer='adam', regularizer='l2')\n",
    "history_tanh_adam_l2 = mlp_tanh_adam_l2.fit(X_train_scaled, y_train, epochs=10, batch_size=32, \n",
    "                                            validation_split=0.2, verbose=0)\n",
    "mlp_models['tanh_adam_l2'] = mlp_tanh_adam_l2\n"
   ]
  },
  {
   "cell_type": "code",
   "execution_count": 50,
   "id": "76d896c7-1542-49f2-a45b-799575db6913",
   "metadata": {},
   "outputs": [
    {
     "name": "stderr",
     "output_type": "stream",
     "text": [
      "C:\\Users\\ejlal\\anaconda3\\Lib\\site-packages\\keras\\src\\layers\\core\\dense.py:87: UserWarning: Do not pass an `input_shape`/`input_dim` argument to a layer. When using Sequential models, prefer using an `Input(shape)` object as the first layer in the model instead.\n",
      "  super().__init__(activity_regularizer=activity_regularizer, **kwargs)\n"
     ]
    }
   ],
   "source": [
    "# MLP with Dropout\n",
    "mlp_relu_adam_dropout = build_mlp_model(input_dim, activation='relu', optimizer='adam', dropout_rate=0.3)\n",
    "history_relu_adam_dropout = mlp_relu_adam_dropout.fit(X_train_scaled, y_train, epochs=10, batch_size=32, \n",
    "                                                     validation_split=0.2, verbose=0)\n",
    "mlp_models['relu_adam_dropout'] = mlp_relu_adam_dropout"
   ]
  },
  {
   "cell_type": "code",
   "execution_count": 52,
   "id": "bc5e8dcd-7a0f-4a00-bfd9-975e92bf2107",
   "metadata": {},
   "outputs": [
    {
     "name": "stdout",
     "output_type": "stream",
     "text": [
      "\n",
      "MLP Models Evaluation:\n",
      "relu_adam: Test Accuracy = 0.9701, Test Loss = 0.0894\n",
      "sigmoid_sgd: Test Accuracy = 0.9591, Test Loss = 0.1104\n",
      "tanh_adam_l2: Test Accuracy = 0.9640, Test Loss = 0.1067\n",
      "relu_adam_dropout: Test Accuracy = 0.9656, Test Loss = 0.0932\n"
     ]
    }
   ],
   "source": [
    "# Evaluate all MLP models\n",
    "print(\"\\nMLP Models Evaluation:\")\n",
    "for name, model in mlp_models.items():\n",
    "    loss, accuracy = model.evaluate(X_test_scaled, y_test, verbose=0)\n",
    "    print(f\"{name}: Test Accuracy = {accuracy:.4f}, Test Loss = {loss:.4f}\")"
   ]
  },
  {
   "cell_type": "code",
   "execution_count": 56,
   "id": "d8dc6c81-df16-4b82-80fc-2b1dcedc01ad",
   "metadata": {},
   "outputs": [
    {
     "data": {
      "text/plain": [
       "<matplotlib.legend.Legend at 0x24113d8ce90>"
      ]
     },
     "execution_count": 56,
     "metadata": {},
     "output_type": "execute_result"
    },
    {
     "data": {
      "image/png": "[encoded data removed]",
      "text/plain": [
       "<Figure size 1200x400 with 1 Axes>"
      ]
     },
     "metadata": {},
     "output_type": "display_data"
    }
   ],
   "source": [
    "   # Plot training history\n",
    "plt.figure(figsize=(12, 4))\n",
    "plt.subplot(1, 2, 1)\n",
    "plt.plot(globals()[f'history_{name}'].history['accuracy'], label='Train Accuracy')\n",
    "plt.plot(globals()[f'history_{name}'].history['val_accuracy'], label='Validation Accuracy')\n",
    "plt.title(f'{name} - Accuracy')\n",
    "plt.legend()"
   ]
  },
  {
   "cell_type": "code",
   "execution_count": 60,
   "id": "ff13631a-7b60-4c0b-861c-d40f78128df5",
   "metadata": {},
   "outputs": [
    {
     "data": {
      "image/png": "[encoded data removed]",
      "text/plain": [
       "<Figure size 640x480 with 1 Axes>"
      ]
     },
     "metadata": {},
     "output_type": "display_data"
    }
   ],
   "source": [
    "plt.subplot(1, 2, 2)\n",
    "plt.plot(globals()[f'history_{name}'].history['loss'], label='Train Loss')\n",
    "plt.plot(globals()[f'history_{name}'].history['val_loss'], label='Validation Loss')\n",
    "plt.title(f'{name} - Loss')\n",
    "plt.legend()\n",
    "plt.show()"
   ]
  },
  {
   "cell_type": "code",
   "execution_count": 64,
   "id": "9750b53d-85de-4b2f-b117-7d953471205d",
   "metadata": {},
   "outputs": [
    {
     "name": "stdout",
     "output_type": "stream",
     "text": [
      "\n",
      "Self-Organizing Maps (SOM):\n"
     ]
    }
   ],
   "source": [
    "# SOM implementation\n",
    "print(\"\\nSelf-Organizing Maps (SOM):\")\n",
    "# Normalize data for SOM\n",
    "scaler_som = MinMaxScaler()\n",
    "X_train_som = scaler_som.fit_transform(X_train)\n",
    "X_test_som = scaler_som.transform(X_test)"
   ]
  },
  {
   "cell_type": "code",
   "execution_count": 66,
   "id": "0b991727-8e5b-4c8d-8130-7126c176cf25",
   "metadata": {},
   "outputs": [],
   "source": [
    "# Define SOM parameters\n",
    "som_shape = (10, 10)\n",
    "input_len = X_train_som.shape[1]\n",
    "sigma = 1.0\n",
    "learning_rate = 0.5"
   ]
  },
  {
   "cell_type": "code",
   "execution_count": 68,
   "id": "95381cb8-1a07-4ddd-9bf7-d03eca8a42af",
   "metadata": {},
   "outputs": [],
   "source": [
    "# Initialize SOM\n",
    "som = MiniSom(som_shape[0], som_shape[1], input_len, sigma=sigma, learning_rate=learning_rate)\n",
    "som.random_weights_init(X_train_som)"
   ]
  },
  {
   "cell_type": "code",
   "execution_count": 70,
   "id": "ebedc1d6-66f9-484a-9c83-d677a816f8a9",
   "metadata": {},
   "outputs": [
    {
     "name": "stdout",
     "output_type": "stream",
     "text": [
      " [ 1000 / 1000 ] 100% - 0:00:00 left \n",
      " quantization error: 0.22512026661488022\n"
     ]
    }
   ],
   "source": [
    "# Train SOM\n",
    "som.train_random(X_train_som, 1000, verbose=True)"
   ]
  },
  {
   "cell_type": "code",
   "execution_count": 72,
   "id": "c0e5d307-1b44-40af-a2fb-8daae9d4ed1b",
   "metadata": {},
   "outputs": [
    {
     "data": {
      "text/plain": [
       "<matplotlib.colorbar.Colorbar at 0x2411502b980>"
      ]
     },
     "execution_count": 72,
     "metadata": {},
     "output_type": "execute_result"
    },
    {
     "data": {
      "image/png": "[encoded data removed]",
      "text/plain": [
       "<Figure size 1000x1000 with 2 Axes>"
      ]
     },
     "metadata": {},
     "output_type": "display_data"
    }
   ],
   "source": [
    "# Visualize SOM\n",
    "plt.figure(figsize=(10, 10))\n",
    "plt.pcolor(som.distance_map().T, cmap='bone_r')  # distance map as background\n",
    "plt.colorbar()"
   ]
  },
  {
   "cell_type": "code",
   "execution_count": 74,
   "id": "c7f593c8-5673-45c3-b19b-81386c7a796e",
   "metadata": {},
   "outputs": [
    {
     "data": {
      "image/png": "[encoded data removed]",
      "text/plain": [
       "<Figure size 640x480 with 1 Axes>"
      ]
     },
     "metadata": {},
     "output_type": "display_data"
    }
   ],
   "source": [
    "# Mark samples from different classes\n",
    "for i, (x, t) in enumerate(zip(X_train_som, y_train)):\n",
    "    w = som.winner(x)\n",
    "    plt.plot(w[0]+0.5, w[1]+0.5, 'o', markerfacecolor='None',\n",
    "             markeredgecolor='red' if t == 1 else 'green', markersize=12, markeredgewidth=2)\n",
    "plt.title(\"SOM: Red=Diabetes, Green=No Diabetes\")\n",
    "plt.show()"
   ]
  },
  {
   "cell_type": "code",
   "execution_count": 76,
   "id": "b45e4012-6110-456a-9616-1971463f8b43",
   "metadata": {},
   "outputs": [
    {
     "name": "stdout",
     "output_type": "stream",
     "text": [
      "\n",
      "SOM Clusters (Training Data):\n",
      "Cluster (3, 0): Diabetes=524, No Diabetes=577\n",
      "Cluster (0, 1): Diabetes=0, No Diabetes=1244\n",
      "Cluster (0, 6): Diabetes=93, No Diabetes=598\n",
      "Cluster (9, 7): Diabetes=29, No Diabetes=1207\n",
      "Cluster (8, 6): Diabetes=0, No Diabetes=897\n",
      "Cluster (6, 9): Diabetes=0, No Diabetes=1293\n",
      "Cluster (8, 2): Diabetes=1, No Diabetes=1037\n",
      "Cluster (6, 5): Diabetes=1, No Diabetes=284\n",
      "Cluster (8, 9): Diabetes=2, No Diabetes=1147\n",
      "Cluster (3, 9): Diabetes=398, No Diabetes=1131\n",
      "Cluster (9, 8): Diabetes=91, No Diabetes=248\n",
      "Cluster (9, 5): Diabetes=6, No Diabetes=1606\n",
      "Cluster (0, 4): Diabetes=0, No Diabetes=232\n",
      "Cluster (5, 3): Diabetes=14, No Diabetes=391\n",
      "Cluster (8, 0): Diabetes=8, No Diabetes=1595\n",
      "Cluster (9, 9): Diabetes=27, No Diabetes=957\n",
      "Cluster (2, 4): Diabetes=34, No Diabetes=523\n",
      "Cluster (2, 9): Diabetes=314, No Diabetes=484\n",
      "Cluster (4, 1): Diabetes=106, No Diabetes=1111\n",
      "Cluster (7, 2): Diabetes=287, No Diabetes=1365\n",
      "Cluster (7, 3): Diabetes=5, No Diabetes=786\n",
      "Cluster (0, 7): Diabetes=16, No Diabetes=1237\n",
      "Cluster (2, 5): Diabetes=189, No Diabetes=1274\n",
      "Cluster (1, 7): Diabetes=39, No Diabetes=1712\n",
      "Cluster (6, 4): Diabetes=5, No Diabetes=2180\n",
      "Cluster (4, 7): Diabetes=191, No Diabetes=1164\n",
      "Cluster (4, 3): Diabetes=41, No Diabetes=1640\n",
      "Cluster (6, 7): Diabetes=0, No Diabetes=1447\n",
      "Cluster (8, 3): Diabetes=0, No Diabetes=796\n",
      "Cluster (0, 3): Diabetes=0, No Diabetes=659\n",
      "Cluster (5, 8): Diabetes=135, No Diabetes=950\n",
      "Cluster (1, 4): Diabetes=0, No Diabetes=536\n",
      "Cluster (0, 0): Diabetes=0, No Diabetes=1764\n",
      "Cluster (9, 1): Diabetes=14, No Diabetes=623\n",
      "Cluster (7, 8): Diabetes=52, No Diabetes=1079\n",
      "Cluster (4, 6): Diabetes=177, No Diabetes=652\n",
      "Cluster (0, 2): Diabetes=0, No Diabetes=1240\n",
      "Cluster (1, 2): Diabetes=0, No Diabetes=1154\n",
      "Cluster (1, 6): Diabetes=93, No Diabetes=1633\n",
      "Cluster (8, 4): Diabetes=0, No Diabetes=1166\n",
      "Cluster (5, 2): Diabetes=646, No Diabetes=404\n",
      "Cluster (4, 0): Diabetes=430, No Diabetes=562\n",
      "Cluster (3, 3): Diabetes=0, No Diabetes=1324\n",
      "Cluster (3, 1): Diabetes=27, No Diabetes=740\n",
      "Cluster (2, 7): Diabetes=99, No Diabetes=1260\n",
      "Cluster (9, 4): Diabetes=0, No Diabetes=1460\n",
      "Cluster (4, 4): Diabetes=304, No Diabetes=255\n",
      "Cluster (7, 7): Diabetes=29, No Diabetes=1076\n",
      "Cluster (5, 6): Diabetes=1, No Diabetes=801\n",
      "Cluster (3, 5): Diabetes=67, No Diabetes=966\n",
      "Cluster (1, 0): Diabetes=0, No Diabetes=775\n",
      "Cluster (9, 6): Diabetes=7, No Diabetes=1286\n",
      "Cluster (7, 4): Diabetes=0, No Diabetes=1199\n",
      "Cluster (8, 7): Diabetes=5, No Diabetes=812\n",
      "Cluster (0, 9): Diabetes=0, No Diabetes=644\n",
      "Cluster (1, 1): Diabetes=0, No Diabetes=617\n",
      "Cluster (9, 3): Diabetes=0, No Diabetes=331\n",
      "Cluster (1, 5): Diabetes=11, No Diabetes=882\n",
      "Cluster (5, 4): Diabetes=42, No Diabetes=326\n",
      "Cluster (2, 3): Diabetes=0, No Diabetes=588\n",
      "Cluster (6, 3): Diabetes=46, No Diabetes=1194\n",
      "Cluster (8, 1): Diabetes=7, No Diabetes=967\n",
      "Cluster (6, 0): Diabetes=290, No Diabetes=449\n",
      "Cluster (0, 5): Diabetes=555, No Diabetes=35\n",
      "Cluster (2, 6): Diabetes=397, No Diabetes=29\n",
      "Cluster (5, 5): Diabetes=24, No Diabetes=1255\n",
      "Cluster (3, 4): Diabetes=75, No Diabetes=987\n",
      "Cluster (9, 2): Diabetes=0, No Diabetes=772\n",
      "Cluster (7, 5): Diabetes=0, No Diabetes=1004\n",
      "Cluster (5, 9): Diabetes=51, No Diabetes=902\n",
      "Cluster (5, 1): Diabetes=0, No Diabetes=218\n",
      "Cluster (2, 2): Diabetes=0, No Diabetes=749\n",
      "Cluster (1, 3): Diabetes=0, No Diabetes=726\n",
      "Cluster (5, 0): Diabetes=294, No Diabetes=659\n",
      "Cluster (4, 5): Diabetes=72, No Diabetes=502\n",
      "Cluster (7, 1): Diabetes=28, No Diabetes=615\n",
      "Cluster (6, 2): Diabetes=124, No Diabetes=1122\n",
      "Cluster (8, 8): Diabetes=2, No Diabetes=714\n",
      "Cluster (3, 6): Diabetes=181, No Diabetes=328\n",
      "Cluster (3, 7): Diabetes=71, No Diabetes=445\n",
      "Cluster (1, 9): Diabetes=4, No Diabetes=86\n",
      "Cluster (3, 2): Diabetes=0, No Diabetes=31\n",
      "Cluster (0, 8): Diabetes=18, No Diabetes=1187\n",
      "Cluster (9, 0): Diabetes=1, No Diabetes=192\n",
      "Cluster (4, 8): Diabetes=0, No Diabetes=87\n",
      "Cluster (2, 8): Diabetes=0, No Diabetes=4\n",
      "Cluster (5, 7): Diabetes=0, No Diabetes=12\n",
      "Cluster (7, 9): Diabetes=0, No Diabetes=2\n"
     ]
    }
   ],
   "source": [
    "# Cluster patients based on SOM\n",
    "def som_cluster(som, data, y):\n",
    "    clusters = {}\n",
    "    for i, (x, t) in enumerate(zip(data, y)):\n",
    "        w = som.winner(x)\n",
    "        if w not in clusters:\n",
    "            clusters[w] = {'diabetes': 0, 'no_diabetes': 0}\n",
    "        if t == 1:\n",
    "            clusters[w]['diabetes'] += 1\n",
    "        else:\n",
    "            clusters[w]['no_diabetes'] += 1\n",
    "    return clusters\n",
    "\n",
    "train_clusters = som_cluster(som, X_train_som, y_train)\n",
    "print(\"\\nSOM Clusters (Training Data):\")\n",
    "for cluster, counts in train_clusters.items():\n",
    "    print(f\"Cluster {cluster}: Diabetes={counts['diabetes']}, No Diabetes={counts['no_diabetes']}\")"
   ]
  },
  {
   "cell_type": "code",
   "execution_count": 82,
   "id": "ecc38fb0-e6dd-44ef-b192-cff8664d8f04",
   "metadata": {},
   "outputs": [
    {
     "name": "stdout",
     "output_type": "stream",
     "text": [
      "\n",
      "Radial Basis Function Network (RBFN):\n"
     ]
    }
   ],
   "source": [
    "print(\"\\nRadial Basis Function Network (RBFN):\")\n",
    "# RBFN implementation\n",
    "class RBFN:\n",
    "    def __init__(self, k=10):\n",
    "        self.k = k\n",
    "        self.centers = None\n",
    "        self.weights = None\n",
    "        self.beta = None"
   ]
  },
  {
   "cell_type": "code",
   "execution_count": 86,
   "id": "40f1450f-490d-4f7f-aba4-065ecbf6b87f",
   "metadata": {},
   "outputs": [],
   "source": [
    "def fit(self, X, y):\n",
    "        # Use K-means to find centers\n",
    "        kmeans = KMeans(n_clusters=self.k)\n",
    "        kmeans.fit(X)\n",
    "        self.centers = kmeans.cluster_centers_\n",
    "        \n",
    "        # Calculate beta (spread parameter)\n",
    "        d_max = np.max([np.linalg.norm(c1 - c2) for c1 in self.centers for c2 in self.centers])\n",
    "        self.beta = 1 / (2 * (d_max / np.sqrt(2 * self.k)) ** 2)\n",
    "        \n",
    "        # Calculate RBF activations\n",
    "        rbf_activations = rbf_kernel(X, self.centers, gamma=self.beta)\n",
    "        \n",
    "        # Add bias term\n",
    "        rbf_activations = np.hstack([rbf_activations, np.ones((X.shape[0], 1))])\n",
    "        \n",
    "        # Solve for weights using least squares\n",
    "        self.weights = np.linalg.pinv(rbf_activations.T @ rbf_activations) @ rbf_activations.T @ y"
   ]
  },
  {
   "cell_type": "code",
   "execution_count": 88,
   "id": "ae65fee4-d3f9-47e5-9593-3a045f2c4aea",
   "metadata": {},
   "outputs": [],
   "source": [
    "  def predict(self, X):\n",
    "        rbf_activations = rbf_kernel(X, self.centers, gamma=self.beta)\n",
    "        rbf_activations = np.hstack([rbf_activations, np.ones((X.shape[0], 1))])\n",
    "        return np.where(rbf_activations @ self.weights > 0.5, 1, 0)"
   ]
  },
  {
   "cell_type": "code",
   "execution_count": 96,
   "id": "476a8fb7-26a7-40ff-9fbe-036c7e375a9d",
   "metadata": {},
   "outputs": [],
   "source": [
    "import numpy as np\n",
    "from sklearn.cluster import KMeans\n",
    "from sklearn.metrics.pairwise import rbf_kernel\n",
    "from sklearn.base import BaseEstimator, ClassifierMixin\n",
    "\n",
    "class RBFN(BaseEstimator, ClassifierMixin):\n",
    "    def __init__(self, k=10, gamma=None):\n",
    "        self.k = k  # Number of RBF centers\n",
    "        self.gamma = gamma  # Gamma parameter for RBF kernel\n",
    "        self.centers = None\n",
    "        self.weights = None\n",
    "        self.bias = None\n",
    "    \n",
    "    def fit(self, X, y):\n",
    "        # Step 1: Find RBF centers using K-means\n",
    "        kmeans = KMeans(n_clusters=self.k, random_state=42)\n",
    "        kmeans.fit(X)\n",
    "        self.centers = kmeans.cluster_centers_\n",
    "        \n",
    "        # Step 2: Calculate gamma if not specified\n",
    "        if self.gamma is None:\n",
    "            # Use heuristic: gamma = 1/(2*median_distance^2)\n",
    "            from sklearn.metrics.pairwise import euclidean_distances\n",
    "            distances = euclidean_distances(self.centers)\n",
    "            median_dist = np.median(distances[np.triu_indices_from(distances, k=1)])\n",
    "            self.gamma = 1.0 / (2.0 * median_dist**2)\n",
    "        \n",
    "        # Step 3: Calculate RBF activations\n",
    "        rbf_activations = rbf_kernel(X, self.centers, gamma=self.gamma)\n",
    "        \n",
    "        # Add bias term (column of 1s)\n",
    "        rbf_activations = np.hstack([rbf_activations, np.ones((X.shape[0], 1))])\n",
    "        \n",
    "        # Step 4: Solve for weights using least squares\n",
    "        self.weights = np.linalg.pinv(rbf_activations.T @ rbf_activations) @ rbf_activations.T @ y\n",
    "        \n",
    "        return self\n",
    "    \n",
    "    def predict(self, X):\n",
    "        # Calculate RBF activations for new data\n",
    "        rbf_activations = rbf_kernel(X, self.centers, gamma=self.gamma)\n",
    "        rbf_activations = np.hstack([rbf_activations, np.ones((X.shape[0], 1))])\n",
    "        \n",
    "        # Make predictions (convert to binary 0/1 for classification)\n",
    "        y_pred = rbf_activations @ self.weights\n",
    "        return np.where(y_pred > 0.5, 1, 0)\n",
    "    \n",
    "    def predict_proba(self, X):\n",
    "        \"\"\"Predict probability scores\"\"\"\n",
    "        rbf_activations = rbf_kernel(X, self.centers, gamma=self.gamma)\n",
    "        rbf_activations = np.hstack([rbf_activations, np.ones((X.shape[0], 1))])\n",
    "        return rbf_activations @ self.weights\n",
    "\n",
    "# Now you can train and evaluate properly:\n",
    "rbfn = RBFN(k=10)\n",
    "rbfn.fit(X_train_scaled, y_train)\n",
    "y_pred_rbfn = rbfn.predict(X_test_scaled)"
   ]
  },
  {
   "cell_type": "code",
   "execution_count": 98,
   "id": "d8eeb81a-2b3c-4de2-9bf7-b27854862e29",
   "metadata": {},
   "outputs": [
    {
     "name": "stdout",
     "output_type": "stream",
     "text": [
      "RBFN Results:\n",
      "Accuracy: 0.94185\n",
      "Confusion Matrix:\n",
      " [[18235    65]\n",
      " [ 1098   602]]\n",
      "Classification Report:\n",
      "               precision    recall  f1-score   support\n",
      "\n",
      "           0       0.94      1.00      0.97     18300\n",
      "           1       0.90      0.35      0.51      1700\n",
      "\n",
      "    accuracy                           0.94     20000\n",
      "   macro avg       0.92      0.68      0.74     20000\n",
      "weighted avg       0.94      0.94      0.93     20000\n",
      "\n"
     ]
    }
   ],
   "source": [
    "print(\"RBFN Results:\")\n",
    "print(\"Accuracy:\", accuracy_score(y_test, y_pred_rbfn))\n",
    "print(\"Confusion Matrix:\\n\", confusion_matrix(y_test, y_pred_rbfn))\n",
    "print(\"Classification Report:\\n\", classification_report(y_test, y_pred_rbfn))"
   ]
  },
  {
   "cell_type": "code",
   "execution_count": 102,
   "id": "7de9ba58-6dd5-42e0-9353-439a6a82840d",
   "metadata": {},
   "outputs": [
    {
     "name": "stdout",
     "output_type": "stream",
     "text": [
      "\n",
      "Detected 4000 potential anomalies (unusual cases)\n",
      "Anomaly cases:\n",
      "       gender   age  hypertension  heart_disease  smoking_history    bmi  \\\n",
      "5752        1  54.0             1              0                2  33.74   \n",
      "75770       1  49.0             1              0                1  27.32   \n",
      "98617       1  70.0             0              1                5  43.17   \n",
      "87190       1  65.0             0              0                0  30.95   \n",
      "23820       1  64.0             1              0                0  38.79   \n",
      "...       ...   ...           ...            ...              ...    ...   \n",
      "81872       0  45.0             1              0                3  45.65   \n",
      "81418       0  68.0             1              0                1  40.53   \n",
      "13235       1  62.0             0              0                4  31.96   \n",
      "14453       0  40.0             0              0                0  33.46   \n",
      "84514       0  80.0             1              0                5  29.60   \n",
      "\n",
      "       HbA1c_level  blood_glucose_level  bmi_age_interaction  \\\n",
      "5752           6.2                  240              1821.96   \n",
      "75770          4.0                   85              1338.68   \n",
      "98617          4.0                  130              3021.90   \n",
      "87190          6.1                  260              2011.75   \n",
      "23820          9.0                  220              2482.56   \n",
      "...            ...                  ...                  ...   \n",
      "81872          5.0                  100              2054.25   \n",
      "81418          4.0                   80              2756.04   \n",
      "13235          8.8                  155              1981.52   \n",
      "14453          6.1                  260              1338.40   \n",
      "84514          8.8                  145              2368.00   \n",
      "\n",
      "       glucose_bp_interaction  \n",
      "5752                      240  \n",
      "75770                      85  \n",
      "98617                       0  \n",
      "87190                       0  \n",
      "23820                     220  \n",
      "...                       ...  \n",
      "81872                     100  \n",
      "81418                      80  \n",
      "13235                       0  \n",
      "14453                       0  \n",
      "84514                     145  \n",
      "\n",
      "[4000 rows x 10 columns]\n"
     ]
    }
   ],
   "source": [
    "# Anomaly detection using RBFN activations\n",
    "rbf_activations = rbf_kernel(X_train_scaled, rbfn.centers, gamma=rbfn.gamma)  # Changed beta to gamma\n",
    "anomaly_scores = 1 - np.max(rbf_activations, axis=1)\n",
    "anomaly_threshold = np.percentile(anomaly_scores, 95)  # Top 5% as anomalies\n",
    "anomalies = X_train[anomaly_scores > anomaly_threshold]\n",
    "\n",
    "print(f\"\\nDetected {len(anomalies)} potential anomalies (unusual cases)\")\n",
    "print(\"Anomaly cases:\")\n",
    "print(anomalies)"
   ]
  },
  {
   "cell_type": "code",
   "execution_count": 104,
   "id": "59c5e271-4acb-41d5-a3d1-7c69136264db",
   "metadata": {},
   "outputs": [
    {
     "data": {
      "image/png": "[encoded data removed]",
      "text/plain": [
       "<Figure size 1000x500 with 1 Axes>"
      ]
     },
     "metadata": {},
     "output_type": "display_data"
    }
   ],
   "source": [
    "# Optional: Visualize anomaly scores\n",
    "plt.figure(figsize=(10, 5))\n",
    "plt.hist(anomaly_scores, bins=50)\n",
    "plt.axvline(x=anomaly_threshold, color='r', linestyle='--', label='Anomaly Threshold')\n",
    "plt.title(\"Distribution of Anomaly Scores\")\n",
    "plt.xlabel(\"Anomaly Score (1 - max RBF activation)\")\n",
    "plt.ylabel(\"Frequency\")\n",
    "plt.legend()\n",
    "plt.show()"
   ]
  },
  {
   "cell_type": "code",
   "execution_count": 106,
   "id": "871fd611-096e-41c3-b08e-6058bfe03f9f",
   "metadata": {},
   "outputs": [
    {
     "name": "stdout",
     "output_type": "stream",
     "text": [
      "\n",
      "Bidirectional Associative Memory (BAM):\n"
     ]
    }
   ],
   "source": [
    "print(\"\\nBidirectional Associative Memory (BAM):\")\n",
    "class BAM:\n",
    "    def __init__(self):\n",
    "        self.W = None\n",
    "    \n",
    "    def fit(self, X, y):\n",
    "        # Convert to bipolar representation (-1 and 1)\n",
    "        X_bipolar = 2 * X - 1\n",
    "        y_bipolar = 2 * y.values.reshape(-1, 1) - 1\n",
    "        \n",
    "        # Create association pairs\n",
    "        pairs = [ (x.reshape(-1, 1), y.reshape(-1, 1)) for x, y in zip(X_bipolar, y_bipolar) ]\n",
    "        \n",
    "        # Calculate weight matrix\n",
    "        self.W = np.zeros((X_bipolar.shape[1], y_bipolar.shape[1]))\n",
    "        for x, y in pairs:\n",
    "            self.W += x @ y.T\n",
    "    \n",
    "    def predict_x_to_y(self, x):\n",
    "        x_bipolar = 2 * x - 1\n",
    "        y_bipolar = np.sign(self.W.T @ x_bipolar.reshape(-1, 1))\n",
    "        return (y_bipolar + 1) // 2\n",
    "    \n",
    "    def predict_y_to_x(self, y):\n",
    "        y_bipolar = 2 * y - 1\n",
    "        x_bipolar = np.sign(self.W @ y_bipolar.reshape(-1, 1))\n",
    "        return (x_bipolar + 1) // 2"
   ]
  },
  {
   "cell_type": "code",
   "execution_count": 108,
   "id": "2f9b3973-1758-4dc7-bdec-34d6e98dfb59",
   "metadata": {},
   "outputs": [],
   "source": [
    "# Create a simplified version for demonstration (using only binary features)\n",
    "# Select binary features (hypertension and heart_disease)\n",
    "X_bam = X[['hypertension', 'heart_disease']]\n",
    "y_bam = y"
   ]
  },
  {
   "cell_type": "code",
   "execution_count": 112,
   "id": "90d6400a-1176-42d8-804e-afc15b31f02c",
   "metadata": {},
   "outputs": [
    {
     "name": "stdout",
     "output_type": "stream",
     "text": [
      "Testing BAM with some examples:\n",
      "Input: [1 1] -> Prediction: Diabetes\n",
      "Input: [0 0] -> Prediction: No Diabetes\n",
      "Input: [1 0] -> Prediction: No Diabetes\n",
      "Input: [0 1] -> Prediction: Diabetes\n"
     ]
    }
   ],
   "source": [
    "import numpy as np\n",
    "\n",
    "class BAM:\n",
    "    def __init__(self):\n",
    "        self.W = None\n",
    "    \n",
    "    def fit(self, X, y):\n",
    "        # Convert to numpy arrays if they aren't already\n",
    "        X = np.array(X)\n",
    "        y = np.array(y)\n",
    "        \n",
    "        # Ensure proper shapes\n",
    "        if len(y.shape) == 1:\n",
    "            y = y.reshape(-1, 1)  # Reshape y to column vector if needed\n",
    "            \n",
    "        # Convert to bipolar representation (-1 and 1)\n",
    "        X_bipolar = 2 * X - 1\n",
    "        y_bipolar = 2 * y - 1\n",
    "        \n",
    "        # Create association pairs\n",
    "        self.W = np.zeros((X_bipolar.shape[1], y_bipolar.shape[1]))\n",
    "        for x, y_pair in zip(X_bipolar, y_bipolar):\n",
    "            self.W += np.outer(x, y_pair)\n",
    "    \n",
    "    def predict_x_to_y(self, x):\n",
    "        x = np.array(x)\n",
    "        x_bipolar = 2 * x - 1\n",
    "        y_bipolar = np.sign(self.W.T @ x_bipolar.reshape(-1, 1))\n",
    "        return (y_bipolar + 1) // 2\n",
    "    \n",
    "    def predict_y_to_x(self, y):\n",
    "        y = np.array(y)\n",
    "        y_bipolar = 2 * y - 1\n",
    "        x_bipolar = np.sign(self.W @ y_bipolar.reshape(-1, 1))\n",
    "        return (x_bipolar + 1) // 2\n",
    "\n",
    "# Prepare proper input data (using binary features)\n",
    "X_bam = X[['hypertension', 'heart_disease']].values  # Convert to numpy array\n",
    "y_bam = y.values.reshape(-1, 1)  # Ensure y is column vector\n",
    "\n",
    "# Train BAM\n",
    "bam = BAM()\n",
    "bam.fit(X_bam, y_bam)\n",
    "\n",
    "# Test BAM\n",
    "print(\"Testing BAM with some examples:\")\n",
    "test_cases = np.array([\n",
    "    [1, 1],  # Both hypertension and heart disease\n",
    "    [0, 0],  # Neither\n",
    "    [1, 0],  # Only hypertension\n",
    "    [0, 1]   # Only heart disease\n",
    "])\n",
    "\n",
    "for case in test_cases:\n",
    "    prediction = bam.predict_x_to_y(case)\n",
    "    print(f\"Input: {case} -> Prediction: {'Diabetes' if prediction[0][0] == 1 else 'No Diabetes'}\")"
   ]
  },
  {
   "cell_type": "code",
   "execution_count": 156,
   "id": "07d50507-3083-47e8-a8a7-b1fb9c62330b",
   "metadata": {},
   "outputs": [
    {
     "name": "stdout",
     "output_type": "stream",
     "text": [
      "* Running on local URL:  http://127.0.0.1:7874\n",
      "\n",
      "To create a public link, set `share=True` in `launch()`.\n"
     ]
    },
    {
     "data": {
      "text/html": [
       "<div><iframe src=\"http://127.0.0.1:7874/\" width=\"100%\" height=\"500\" allow=\"autoplay; camera; microphone; clipboard-read; clipboard-write;\" frameborder=\"0\" allowfullscreen></iframe></div>"
      ],
      "text/plain": [
       "<IPython.core.display.HTML object>"
      ]
     },
     "metadata": {},
     "output_type": "display_data"
    },
    {
     "data": {
      "text/plain": []
     },
     "execution_count": 156,
     "metadata": {},
     "output_type": "execute_result"
    }
   ],
   "source": [
    "import gradio as gr\n",
    "import numpy as np\n",
    "\n",
    "# History storage (session-based)\n",
    "history_log = []\n",
    "\n",
    "def predict_diabetes(gender, age, hypertension, heart_disease, smoking_history, bmi, hba1c, glucose):\n",
    "    try:\n",
    "        gender_map = {'Female': 0, 'Male': 1, 'Other': 2}\n",
    "        smoking_map = {'never': 0, 'No Info': 1, 'current': 2, 'former': 3, 'ever': 4, 'not current': 5}\n",
    "        gender_num = gender_map[gender]\n",
    "        smoking_num = smoking_map[smoking_history]\n",
    "        hypertension_num = int(hypertension)\n",
    "        heart_disease_num = int(heart_disease)\n",
    "\n",
    "        bmi_age = bmi * age\n",
    "        glucose_bp = glucose * hypertension_num\n",
    "\n",
    "        input_data = np.array([[gender_num, age, hypertension_num, heart_disease_num,\n",
    "                                smoking_num, bmi, hba1c, glucose, bmi_age, glucose_bp]])\n",
    "\n",
    "        input_scaled = scaler.transform(input_data)\n",
    "        model = mlp_models['relu_adam_dropout']\n",
    "        prob = model.predict(input_scaled)[0][0]\n",
    "        prediction = \"Positive\" if prob > 0.5 else \"Negative\"\n",
    "\n",
    "        risks = []\n",
    "        if hypertension_num: risks.append(\"• Hypertension increases risk\")\n",
    "        if heart_disease_num: risks.append(\"• Heart disease increases risk\")\n",
    "        if bmi > 30: risks.append(f\"• High BMI ({bmi}) indicates obesity risk\")\n",
    "        if glucose > 140: risks.append(f\"• High glucose level ({glucose} mg/dL)\")\n",
    "        if hba1c > 6.5: risks.append(f\"• HbA1c ({hba1c}) suggests possible diabetes\")\n",
    "\n",
    "        risk_analysis = \"\\n\".join(risks) if risks else \"No significant risk factors\"\n",
    "\n",
    "        history_log.append({\n",
    "            \"Gender\": gender,\n",
    "            \"Age\": age,\n",
    "            \"Hypertension\": hypertension,\n",
    "            \"Heart Disease\": heart_disease,\n",
    "            \"Smoking\": smoking_history,\n",
    "            \"BMI\": bmi,\n",
    "            \"HbA1c\": hba1c,\n",
    "            \"Glucose\": glucose,\n",
    "            \"Prediction\": prediction,\n",
    "            \"Probability\": f\"{prob:.1%}\"\n",
    "        })\n",
    "\n",
    "        return f\"🩺 {prediction}\", f\"📊 {prob:.1%}\", risk_analysis\n",
    "\n",
    "    except Exception as e:\n",
    "        return \"Error\", \"Error\", f\"Error: {e}\"\n",
    "\n",
    "def view_history():\n",
    "    if not history_log:\n",
    "        return \"⚠️ No predictions made yet.\"\n",
    "    history_text = \"\\n\\n\".join([\n",
    "        f\"✅ **{entry['Prediction']}** | 🧪 **{entry['Probability']}**\\n\"\n",
    "        f\"👤 {entry['Gender']}, Age: {entry['Age']}, BMI: {entry['BMI']}, Glucose: {entry['Glucose']}\"\n",
    "        for entry in history_log\n",
    "    ])\n",
    "    return history_text\n",
    "\n",
    "# ✨ Enhanced UI Interface\n",
    "with gr.Blocks(title=\"AI Health Advisor\", theme=gr.themes.Soft()) as demo:\n",
    "    gr.HTML(\"\"\"\n",
    "        <div style=\"text-align: center; padding: 1.5rem; background: linear-gradient(to right, #a1c4fd, #c2e9fb); border-radius: 12px; margin-bottom: 20px;\">\n",
    "            <h1 style=\"font-size: 2.5em; color: #2c3e50;\">🧠 AI Health Advisor</h1>\n",
    "            <p style=\"font-size: 1.2em; color: black; margin-top: -10px; font-weight: 600;\">Ejlal Hameed</p>\n",
    "            <p style=\"font-size: 1.2em; color: #34495e;\">Predict diabetes risk with clinical precision and AI insights</p>\n",
    "        </div>\n",
    "    \"\"\")\n",
    "\n",
    "    with gr.Row():\n",
    "        with gr.Column():\n",
    "            gr.Markdown(\"### 📝 Patient Information\")\n",
    "            gender = gr.Dropdown([\"Female\", \"Male\", \"Other\"], label=\"Gender\")\n",
    "            age = gr.Slider(0, 120, value=30, label=\"Age\")\n",
    "            smoking = gr.Dropdown([\"never\", \"No Info\", \"current\", \"former\", \"ever\", \"not current\"], label=\"Smoking History\")\n",
    "\n",
    "        with gr.Column():\n",
    "            gr.Markdown(\"### 💉 Medical Details\")\n",
    "            hypertension = gr.Checkbox(label=\"Hypertension\")\n",
    "            heart_disease = gr.Checkbox(label=\"Heart Disease\")\n",
    "            bmi = gr.Slider(10, 70, value=25.0, step=0.1, label=\"BMI\")\n",
    "            hba1c = gr.Slider(3.0, 15.0, value=5.5, step=0.1, label=\"HbA1c Level\")\n",
    "            glucose = gr.Slider(50, 300, value=100, step=1, label=\"Blood Glucose Level\")\n",
    "\n",
    "    gr.Markdown(\"---\")\n",
    "\n",
    "    with gr.Row():\n",
    "        submit_btn = gr.Button(\"🚀 Predict Diabetes Risk\", variant=\"primary\")\n",
    "        history_btn = gr.Button(\"📜 View Prediction History\")\n",
    "\n",
    "    with gr.Row():\n",
    "        with gr.Column():\n",
    "            gr.Markdown(\"### 📊 Prediction Results\")\n",
    "            prediction = gr.Textbox(label=\"🩺 Prediction\", interactive=False, max_lines=1)\n",
    "            probability = gr.Textbox(label=\"📈 Probability\", interactive=False, max_lines=1)\n",
    "            risk = gr.Textbox(label=\"⚠️ Risk Analysis\", lines=5, interactive=False)\n",
    "\n",
    "        with gr.Column():\n",
    "            gr.Markdown(\"### 🗂️ Prediction History\")\n",
    "            history_output = gr.Textbox(label=\"🧾 Stored History\", lines=10, interactive=False)\n",
    "\n",
    "    submit_btn.click(\n",
    "        fn=predict_diabetes,\n",
    "        inputs=[gender, age, hypertension, heart_disease, smoking, bmi, hba1c, glucose],\n",
    "        outputs=[prediction, probability, risk]\n",
    "    )\n",
    "\n",
    "    history_btn.click(\n",
    "        fn=view_history,\n",
    "        outputs=history_output\n",
    "    )\n",
    "\n",
    "    gr.Markdown(\"\"\"\n",
    "        <hr>\n",
    "        <div style=\"text-align: center; font-size: 0.9em; color: #95a5a6;\">\n",
    "            © 2025 AI Health Advisor · Designed for academic and educational purposes\n",
    "        </div>\n",
    "    \"\"\")\n",
    "\n",
    "demo.launch()\n"
   ]
  },
  {
   "cell_type": "code",
   "execution_count": 158,
   "id": "b5c03a75-f363-44cc-b8cd-67ac1e8603af",
   "metadata": {},
   "outputs": [
    {
     "data": {
      "text/plain": [
       "['scaler.pkl']"
      ]
     },
     "execution_count": 158,
     "metadata": {},
     "output_type": "execute_result"
    }
   ],
   "source": [
    "import joblib\n",
    "joblib.dump(scaler, 'scaler.pkl')"
   ]
  },
  {
   "cell_type": "code",
   "execution_count": null,
   "id": "c017cfa0-cdd3-49bc-a9f3-f6716e8e9b43",
   "metadata": {},
   "outputs": [],
   "source": []
  }
 ],
 "metadata": {
  "kernelspec": {
   "display_name": "Python [conda env:anaconda3]",
   "language": "python",
   "name": "conda-env-anaconda3-py"
  },
  "language_info": {
   "codemirror_mode": {
    "name": "ipython",
    "version": 3
   },
   "file_extension": ".py",
   "mimetype": "text/x-python",
   "name": "python",
   "nbconvert_exporter": "python",
   "pygments_lexer": "ipython3",
   "version": "3.12.7"
  }
 },
 "nbformat": 4,
 "nbformat_minor": 5
}
